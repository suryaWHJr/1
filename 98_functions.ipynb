{
  "nbformat": 4,
  "nbformat_minor": 0,
  "metadata": {
    "colab": {
      "name": "98 functions.ipynb",
      "provenance": [],
      "collapsed_sections": [],
      "authorship_tag": "ABX9TyOiyJbJWfPmQn9bZXPylmmr",
      "include_colab_link": true
    },
    "kernelspec": {
      "name": "python3",
      "display_name": "Python 3"
    },
    "language_info": {
      "name": "python"
    }
  },
  "cells": [
    {
      "cell_type": "markdown",
      "metadata": {
        "id": "view-in-github",
        "colab_type": "text"
      },
      "source": [
        "<a href=\"https://colab.research.google.com/github/suryaWHJr/1/blob/main/98_functions.ipynb\" target=\"_parent\"><img src=\"https://colab.research.google.com/assets/colab-badge.svg\" alt=\"Open In Colab\"/></a>"
      ]
    },
    {
      "cell_type": "code",
      "execution_count": 7,
      "metadata": {
        "colab": {
          "base_uri": "https://localhost:8080/",
          "height": 36
        },
        "id": "xyhbOQape3GU",
        "outputId": "c2019ed8-bb5f-4172-bc82-5e35e20d6536"
      },
      "outputs": [
        {
          "output_type": "execute_result",
          "data": {
            "application/vnd.google.colaboratory.intrinsic+json": {
              "type": "string"
            },
            "text/plain": [
              "\"This is a sample folder.The extension of this file is 'txt'\""
            ]
          },
          "metadata": {},
          "execution_count": 7
        }
      ],
      "source": [
        "f= open(\"text.txt\")\n",
        "f.read()\n"
      ]
    },
    {
      "cell_type": "code",
      "source": [
        "f= open(\"text.txt\")\n",
        "filelines = f.readlines()\n",
        "for line in filelines:\n",
        "  print(line)"
      ],
      "metadata": {
        "colab": {
          "base_uri": "https://localhost:8080/"
        },
        "id": "1RC_S2n2hRAy",
        "outputId": "b50ce771-ed5c-41e1-d223-2ac0148fa84e"
      },
      "execution_count": 8,
      "outputs": [
        {
          "output_type": "stream",
          "name": "stdout",
          "text": [
            "This is a sample folder.\n",
            "\n",
            "The extension of this file is 'txt'\n"
          ]
        }
      ]
    },
    {
      "cell_type": "code",
      "source": [
        "introString = \"My name is Surya Shihab\"\n",
        "words = introString.split()\n",
        "print(words)\n"
      ],
      "metadata": {
        "colab": {
          "base_uri": "https://localhost:8080/"
        },
        "id": "hQpCw7LXhTEJ",
        "outputId": "47869e75-4da3-47a0-e31a-75e3ab202156"
      },
      "execution_count": 9,
      "outputs": [
        {
          "output_type": "stream",
          "name": "stdout",
          "text": [
            "['My', 'name', 'is', 'Surya', 'Shihab']\n"
          ]
        }
      ]
    },
    {
      "cell_type": "code",
      "source": [
        "introString = \"My name is Surya Shihab,I'm 25 years old.\"\n",
        "words = introString.split(\",\")\n",
        "print(words)\n"
      ],
      "metadata": {
        "colab": {
          "base_uri": "https://localhost:8080/"
        },
        "id": "DknlCTTzhnsR",
        "outputId": "842fb60e-7ef5-4553-95da-efa88d099121"
      },
      "execution_count": 11,
      "outputs": [
        {
          "output_type": "stream",
          "name": "stdout",
          "text": [
            "['My name is Surya Shihab', \"I'm 25 years old.\"]\n"
          ]
        }
      ]
    },
    {
      "cell_type": "code",
      "source": [
        "def greet(name):\n",
        "  print(\"Hello,\"+ name + \".How are you?\")\n",
        "\n",
        "greet(\"Rahul\")\n",
        "\n"
      ],
      "metadata": {
        "colab": {
          "base_uri": "https://localhost:8080/"
        },
        "id": "vywGb3qXh9Qf",
        "outputId": "7ae5c616-e717-4ffb-f4b4-9903fd2cebe0"
      },
      "execution_count": 12,
      "outputs": [
        {
          "output_type": "stream",
          "name": "stdout",
          "text": [
            "Hello,Rahul.How are you?\n"
          ]
        }
      ]
    },
    {
      "cell_type": "code",
      "source": [
        "def countWordsFromFile():\n",
        "    fileName =  input(\"Enter the file name:- \")\n",
        "\n",
        "    numberOfWords = 0\n",
        "\n",
        "    file =  open(fileName, 'r')\n",
        "    for line in file:\n",
        "        words = line.split()\n",
        "        numberOfWords = numberOfWords + len(words)\n",
        "    print(\"Number of words:\")\n",
        "    print(numberOfWords)\n",
        "\n",
        "\n",
        "countWordsFromFile()\n"
      ],
      "metadata": {
        "id": "tgplG0fgylVc",
        "outputId": "6c269df0-c9ca-4347-cca5-97f492634ff0",
        "colab": {
          "base_uri": "https://localhost:8080/"
        }
      },
      "execution_count": 10,
      "outputs": [
        {
          "output_type": "stream",
          "name": "stdout",
          "text": [
            "Enter the file name:- text.txt\n",
            "Number of words:\n",
            "12\n"
          ]
        }
      ]
    }
  ]
}