{
  "nbformat": 4,
  "nbformat_minor": 0,
  "metadata": {
    "colab": {
      "name": "c 100 .ipynb",
      "provenance": [],
      "collapsed_sections": [],
      "authorship_tag": "ABX9TyOxyF+W8bOgc+j+44cPREfY",
      "include_colab_link": true
    },
    "kernelspec": {
      "name": "python3",
      "display_name": "Python 3"
    },
    "language_info": {
      "name": "python"
    }
  },
  "cells": [
    {
      "cell_type": "markdown",
      "metadata": {
        "id": "view-in-github",
        "colab_type": "text"
      },
      "source": [
        "<a href=\"https://colab.research.google.com/github/suryaWHJr/1/blob/main/c_100_.ipynb\" target=\"_parent\"><img src=\"https://colab.research.google.com/assets/colab-badge.svg\" alt=\"Open In Colab\"/></a>"
      ]
    },
    {
      "cell_type": "code",
      "source": [
        "class Student(object):\n",
        "  def __init__(self, name,age,gender,level,grades=None):\n",
        "    self.name = name\n",
        "    self.age =age\n",
        "    self.gender = gender\n",
        "    self.level = level\n",
        "    self.grades =grades or {}\n",
        "\n",
        "  def setGrades(self , course , grade):\n",
        "    self.grades[course] = grade\n",
        "\n",
        "  def getGrades(self , course ):\n",
        "    return self.grades[course]\n",
        "\n",
        "  def getGPA(self  ):\n",
        "    return sum(self.grades.values())/ len(self.grades)\n",
        "\n",
        "  #Define some students\n",
        "\n",
        "john = Student(\"John\", 12 , \"male\" , 6 , {\"math\":3.3})\n",
        "jane = Student(\"Jane\", 16 , \"female\" , 6 , {\"math\":3.5})\n",
        "\n",
        "#Now we can get the grades easily\n",
        "\n",
        "print(john.getGPA())\n",
        "print(jane.getGPA())\n",
        "\n",
        "\n"
      ],
      "metadata": {
        "colab": {
          "base_uri": "https://localhost:8080/"
        },
        "id": "wty1liKQPIvd",
        "outputId": "08c54274-32e2-4d73-f8bb-ffbeeea104c3"
      },
      "execution_count": 1,
      "outputs": [
        {
          "output_type": "stream",
          "name": "stdout",
          "text": [
            "3.3\n",
            "3.5\n"
          ]
        }
      ]
    },
    {
      "cell_type": "code",
      "source": [
        "\n",
        "\n",
        "\n",
        "\n",
        "\n",
        "\n",
        "\n",
        "\n",
        "\n",
        "\n",
        "\n",
        "\n",
        "\n",
        "\n",
        "\n",
        "\n",
        "\n",
        "\n",
        "\n"
      ],
      "metadata": {
        "id": "YvOF8pEYRYqN"
      },
      "execution_count": null,
      "outputs": []
    },
    {
      "cell_type": "code",
      "execution_count": 6,
      "metadata": {
        "colab": {
          "base_uri": "https://localhost:8080/"
        },
        "id": "AFUXCVNTOrDF",
        "outputId": "c6376da8-e1d7-46d9-f6c8-741f9146355a"
      },
      "outputs": [
        {
          "output_type": "stream",
          "name": "stdout",
          "text": [
            "stopped\n",
            "None\n"
          ]
        }
      ],
      "source": [
        "class Car(object):\n",
        "  \"\"\"\n",
        "    blueprint for car\n",
        "  \"\"\"\n",
        "\n",
        "  def __init__(self, model, color, company, speed_limit):\n",
        "    self.color = color\n",
        "    self.company = company\n",
        "    self.speed_limit = speed_limit\n",
        "    self.model = model\n",
        "\n",
        "  def start(self):\n",
        "    print(\"started\")\n",
        "\n",
        "  def stop(self):\n",
        "    print(\"stopped\")\n",
        "\n",
        "  def accelarate(self):\n",
        "    print(\"accelarating...\")\n",
        "    \"accelarator functionality here\"\n",
        "\n",
        "  def change_gear(self, gear_type):\n",
        "    print(\"gear changed\")\n",
        "    \" gear related functionality here\"\n",
        "\n",
        "\n",
        "audi = Car(\"A6\", \"red\", \"audi\", 80)\n",
        "audi.speed_limit\n",
        "print(audi.stop())"
      ]
    }
  ]
}